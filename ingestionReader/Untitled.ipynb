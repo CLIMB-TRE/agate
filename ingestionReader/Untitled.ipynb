{
 "cells": [
  {
   "cell_type": "code",
   "execution_count": 1,
   "id": "47e61df8-4cee-4b59-8d2e-28ac711662f8",
   "metadata": {},
   "outputs": [],
   "source": [
    "from varys import Varys\n",
    "\n",
    "open('varys_test.log', 'w').close()\n",
    "\n",
    "varys_client = Varys(\n",
    "    config_path  = \"varys_config.cfg\",\n",
    "    profile=\"test\",\n",
    "    logfile=\"varys_test.log\",\n",
    "    log_level=\"DEBUG\",\n",
    "    auto_acknowledge=False,\n",
    ")"
   ]
  },
  {
   "cell_type": "code",
   "execution_count": 2,
   "id": "79c2f9ac-dfba-479b-9c64-0d1e8db941c8",
   "metadata": {},
   "outputs": [],
   "source": [
    "from ingestionreader import AgateDomain, IngestionReader\n",
    "\n",
    "ag = AgateDomain(domain=\"http://127.0.0.1:8001\", token = \"57f6bf4c44231155def6ad9e8cf072b71c2a782fd228686df94cf195b08ce7cc\")\n",
    "\n",
    "ingestion = IngestionReader( projects =['mscape'], project_sites=['mscape-bham'])"
   ]
  },
  {
   "cell_type": "code",
   "execution_count": 7,
   "id": "9b8d24fd-7be3-4844-b769-69855aa7f4ac",
   "metadata": {},
   "outputs": [],
   "source": [
    "ingestion.update(varys_client, ag)"
   ]
  },
  {
   "cell_type": "code",
   "execution_count": 4,
   "id": "15a2a032-f1c9-433a-a530-19662f410e23",
   "metadata": {},
   "outputs": [
    {
     "name": "stdout",
     "output_type": "stream",
     "text": [
      "['mscape']\n",
      "['mscape-bham']\n"
     ]
    }
   ],
   "source": [
    "print(ingestion.projects)\n",
    "print(ingestion.project_sites)"
   ]
  },
  {
   "cell_type": "code",
   "execution_count": 5,
   "id": "98d15adc-8bc5-4629-b482-ee59aeea92f5",
   "metadata": {},
   "outputs": [
    {
     "name": "stdout",
     "output_type": "stream",
     "text": [
      "[]\n"
     ]
    }
   ],
   "source": [
    "print(varys_client.receive_batch(exchange=\"inbound-matched\", queue_suffix=\"agate\", timeout=1))"
   ]
  },
  {
   "cell_type": "code",
   "execution_count": null,
   "id": "e0136619-8525-4ff7-ad26-3f5f194934f4",
   "metadata": {},
   "outputs": [],
   "source": []
  },
  {
   "cell_type": "code",
   "execution_count": null,
   "id": "340c9703-9bd1-479c-ad76-f89199d5ce17",
   "metadata": {},
   "outputs": [],
   "source": []
  },
  {
   "cell_type": "code",
   "execution_count": 6,
   "id": "0b95b8da-5a48-4dee-a8ed-1304094658ae",
   "metadata": {},
   "outputs": [],
   "source": [
    "message = {\"foo\": \"bar\"}\n",
    "\n",
    "varys_client.send(message=message,\n",
    "    exchange=\"inbound-matched\",\n",
    "    queue_suffix=\"agate\"\n",
    ")"
   ]
  },
  {
   "cell_type": "code",
   "execution_count": null,
   "id": "17fcf512-8fbe-4ff9-a9a1-c955ca25721d",
   "metadata": {},
   "outputs": [],
   "source": []
  }
 ],
 "metadata": {
  "kernelspec": {
   "display_name": "Python 3 (ipykernel)",
   "language": "python",
   "name": "python3"
  },
  "language_info": {
   "codemirror_mode": {
    "name": "ipython",
    "version": 3
   },
   "file_extension": ".py",
   "mimetype": "text/x-python",
   "name": "python",
   "nbconvert_exporter": "python",
   "pygments_lexer": "ipython3",
   "version": "3.12.3"
  }
 },
 "nbformat": 4,
 "nbformat_minor": 5
}
